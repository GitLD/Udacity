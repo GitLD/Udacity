{
 "cells": [
  {
   "cell_type": "markdown",
   "metadata": {},
   "source": [
    "# Descriptive Statistics: Final Project"
   ]
  },
  {
   "cell_type": "markdown",
   "metadata": {},
   "source": [
    "## Questions for Investigation\n",
    "This experiment will require the use of a standard deck of playing cards. This is a deck of fifty-two cards divided into four suits (spades (♠), hearts (♥), diamonds (♦), and clubs (♣)), each suit containing thirteen cards (Ace, numbers 2-10, and face cards Jack, Queen, and King).\n",
    "\n",
    "For the purposes of this task, assign each card a value: The Ace takes a value of 1, numbered cards take the value printed on the card, and the Jack, Queen, and King each take a value of 10.\n",
    "\n",
    "1. First, create a histogram depicting the relative frequencies of the card values.\n",
    "\n",
    "2. Now, we will get samples for a new distribution. To obtain a single sample, shuffle your deck of cards and draw three cards from it. (You will be sampling from the deck without replacement.) Record the cards that you have drawn and the sum of the three cards’ values. Replace the drawn cards back into the deck and repeat this sampling procedure a total of at least thirty times.\n",
    "\n",
    "3. Let’s take a look at the distribution of the card sums. Report descriptive statistics for the samples you have drawn. Include at least two measures of central tendency and two measures of variability.\n",
    "\n",
    "4. Create a histogram of the sampled card sums you have recorded. Compare its shape to that of the original distribution. How are they different, and can you explain why this is the case?\n",
    "\n",
    "5. Make some estimates about values you will get on future draws. Within what range will you expect approximately 90% of your draw values to fall? What is the approximate probability that you will get a draw value of at least 20? "
   ]
  },
  {
   "cell_type": "code",
   "execution_count": 1,
   "metadata": {},
   "outputs": [],
   "source": [
    "import random\n",
    "from matplotlib import pyplot as plt\n",
    "import numpy as np"
   ]
  },
  {
   "cell_type": "code",
   "execution_count": 2,
   "metadata": {},
   "outputs": [],
   "source": [
    "suits = ['♠','♥','♦','♣']\n",
    "cards = ['A','2','3','4','5','6','7','8','9','10','J','Q','K']\n",
    "all_cards = [suit + card for suit in suits for card in cards]\n",
    "random.shuffle(all_cards)"
   ]
  },
  {
   "cell_type": "code",
   "execution_count": 3,
   "metadata": {},
   "outputs": [],
   "source": [
    "def get_card(all_cards):\n",
    "    return random.choice(all_cards)"
   ]
  },
  {
   "cell_type": "code",
   "execution_count": 4,
   "metadata": {},
   "outputs": [],
   "source": [
    "def get_num(card):\n",
    "    num = card[-1]\n",
    "    if num == 'A':\n",
    "        return 1\n",
    "    elif num in ['J','Q','K']:\n",
    "        return 10\n",
    "    else:\n",
    "        return eval(num)"
   ]
  },
  {
   "cell_type": "code",
   "execution_count": 5,
   "metadata": {},
   "outputs": [
    {
     "data": {
      "image/png": "[encoded data removed]",
      "text/plain": [
       "<Figure size 432x288 with 1 Axes>"
      ]
     },
     "metadata": {
      "needs_background": "light"
     },
     "output_type": "display_data"
    }
   ],
   "source": [
    "# All Cards Histogram\n",
    "all_nums = [get_num(card) for card in all_cards]\n",
    "plt.hist(all_nums,bins=11,rwidth=0.5)\n",
    "plt.title('All Cards Histogram')\n",
    "plt.xlabel('Card Number')\n",
    "plt.ylabel('Frequency')\n",
    "plt.show()"
   ]
  },
  {
   "cell_type": "code",
   "execution_count": 6,
   "metadata": {},
   "outputs": [],
   "source": [
    "# Draw 3 cards, Repeat 30 times\n",
    "all_draws = []\n",
    "all_sums = []\n",
    "for _ in range(30):\n",
    "    three_cards = []\n",
    "    sums = 0\n",
    "    for __ in range(3):\n",
    "        card = get_card(all_cards)\n",
    "        three_cards.append(card)\n",
    "        sums += get_num(card)\n",
    "    all_draws.append(three_cards)\n",
    "    all_sums.append(sums)       "
   ]
  },
  {
   "cell_type": "code",
   "execution_count": 7,
   "metadata": {},
   "outputs": [
    {
     "data": {
      "image/png": "[encoded data removed]",
      "text/plain": [
       "<Figure size 432x288 with 1 Axes>"
      ]
     },
     "metadata": {
      "needs_background": "light"
     },
     "output_type": "display_data"
    }
   ],
   "source": [
    "# All Cards Histogram\n",
    "plt.hist(all_sums,bins=11, rwidth=0.5)\n",
    "plt.title('Sample Histogram')\n",
    "plt.xlabel('Three Card Sum Number')\n",
    "plt.ylabel('Frequency')\n",
    "plt.show()"
   ]
  },
  {
   "cell_type": "code",
   "execution_count": 8,
   "metadata": {},
   "outputs": [
    {
     "name": "stdout",
     "output_type": "stream",
     "text": [
      "Population mean: miu = 5.77\n",
      "Population std: sigma = 3.42\n",
      "Sample mean: miu = 15.97\n",
      "Sample std: sigma = 5.85\n"
     ]
    }
   ],
   "source": [
    "# Mean and Std of Population\n",
    "mean_population = np.mean(all_nums)\n",
    "std_population = np.std(all_nums)\n",
    "print(\"Population mean: miu = %.2f\" % mean_population)\n",
    "print(\"Population std: sigma = %.2f\" % std_population)\n",
    "# Mean and Std of Samples\n",
    "mean_samples = np.mean(all_sums)\n",
    "std_samples = np.std(all_sums)\n",
    "print(\"Sample mean: miu = %.2f\" % mean_samples)\n",
    "print(\"Sample std: sigma = %.2f\" % std_samples)"
   ]
  },
  {
   "cell_type": "markdown",
   "metadata": {},
   "source": [
    "### Samples Sum Distribution trends to be a normal distribution. \n",
    "- Its mean expects to be $3{\\mu}=17.31$. \n",
    "- Its std expects to be ${\\sqrt3\\mu}=5.92$."
   ]
  },
  {
   "cell_type": "code",
   "execution_count": 9,
   "metadata": {},
   "outputs": [
    {
     "name": "stdout",
     "output_type": "stream",
     "text": [
      "90% chance to falls in range of [3, 25].\n",
      "31.02% chance to get over 20.\n"
     ]
    }
   ],
   "source": [
    "# 90% to fall\n",
    "Z_score_min = (3-17.31)/5.92\n",
    "per_min = 0.0078\n",
    "Z_score_90 = 1.34\n",
    "per_90 = 0.9078\n",
    "\n",
    "N = Z_score_90*5.92+17.31\n",
    "print('90%% chance to falls in range of [3, %d].' % int(N))\n",
    "# Chances to falls into at least 20\n",
    "Z_score_20 = (20-17.31)/5.92\n",
    "per_20 = 0.6736\n",
    "Z_score_max = (30-17.31)/5.92\n",
    "per_max = 0.9838\n",
    "print('%.2f%% chance to get over 20.' % (100*(per_max-per_20)))"
   ]
  }
 ],
 "metadata": {
  "kernelspec": {
   "display_name": "Python 3",
   "language": "python",
   "name": "python3"
  },
  "language_info": {
   "codemirror_mode": {
    "name": "ipython",
    "version": 3
   },
   "file_extension": ".py",
   "mimetype": "text/x-python",
   "name": "python",
   "nbconvert_exporter": "python",
   "pygments_lexer": "ipython3",
   "version": "3.6.5"
  }
 },
 "nbformat": 4,
 "nbformat_minor": 2
}
